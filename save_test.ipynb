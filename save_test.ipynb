{
 "cells": [
  {
   "cell_type": "code",
   "execution_count": 1,
   "metadata": {},
   "outputs": [
    {
     "name": "stdout",
     "output_type": "stream",
     "text": [
      "succeed\n"
     ]
    }
   ],
   "source": [
    "from rpy2_wrapper import R\n",
    "\n",
    "rinst = R()\n",
    "rinst.import_csv(\"sample_data.csv\")\n",
    "rinst.aov(data_column=\"data.5\",label_column=\"category\",save_file=\"test.txt\")\n",
    "rinst.tukeyHSD(data_column=\"data.5\",label_column=\"category\",save_file=\"test.txt\")\n",
    "rinst.oneway(data_column=\"data.5\",label_column=\"category\",save_file=\"test.txt\")"
   ]
  },
  {
   "cell_type": "code",
   "execution_count": 2,
   "metadata": {},
   "outputs": [],
   "source": [
    "rinst.dunnett_test(data_column=\"data.5\",label_column=\"category\",save_file=\"test.txt\")"
   ]
  },
  {
   "cell_type": "code",
   "execution_count": 3,
   "metadata": {},
   "outputs": [
    {
     "name": "stdout",
     "output_type": "stream",
     "text": [
      "succeed\n"
     ]
    }
   ],
   "source": [
    "rinst2 = R()\n",
    "rinst2.import_csv(\"sample_data2.csv\",index_col=0)\n",
    "rinst2.fisher_test(save_file=\"test.txt\")"
   ]
  },
  {
   "cell_type": "code",
   "execution_count": 4,
   "metadata": {},
   "outputs": [
    {
     "name": "stdout",
     "output_type": "stream",
     "text": [
      "succeed\n"
     ]
    }
   ],
   "source": [
    "rinst3 = R()\n",
    "rinst3.import_csv(\"sample_data3.csv\")\n",
    "rinst3.steeldwass(data_column=\"data.5\",label_column=\"category\",save_file=\"test.txt\")"
   ]
  },
  {
   "cell_type": "code",
   "execution_count": 5,
   "metadata": {},
   "outputs": [],
   "source": [
    "rinst.close()\n",
    "rinst2.close()\n",
    "rinst3.close()"
   ]
  },
  {
   "cell_type": "code",
   "execution_count": null,
   "metadata": {},
   "outputs": [],
   "source": []
  }
 ],
 "metadata": {
  "kernelspec": {
   "display_name": "Python 3",
   "language": "python",
   "name": "python3"
  },
  "language_info": {
   "codemirror_mode": {
    "name": "ipython",
    "version": 3
   },
   "file_extension": ".py",
   "mimetype": "text/x-python",
   "name": "python",
   "nbconvert_exporter": "python",
   "pygments_lexer": "ipython3",
   "version": "3.6.2"
  }
 },
 "nbformat": 4,
 "nbformat_minor": 2
}
