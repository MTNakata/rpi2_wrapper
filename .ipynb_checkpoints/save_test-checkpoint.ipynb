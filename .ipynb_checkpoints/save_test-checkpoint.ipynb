{
 "cells": [
  {
   "cell_type": "code",
   "execution_count": 1,
   "metadata": {},
   "outputs": [
    {
     "name": "stdout",
     "output_type": "stream",
     "text": [
      "succeed\n"
     ]
    }
   ],
   "source": [
    "from rpy2_wrapper import R\n",
    "\n",
    "rinst = R()\n",
    "rinst.import_csv(\"sample_data.csv\")\n",
    "rinst.aov(data_column=\"data.5\",label_column=\"category\",save_file=\"test.txt\")\n",
    "rinst.tukeyHSD(data_column=\"data.5\",label_column=\"category\",save_file=\"test.txt\")\n",
    "rinst.oneway(data_column=\"data.5\",label_column=\"category\",save_file=\"test.txt\")"
   ]
  },
  {
   "cell_type": "code",
   "execution_count": 2,
   "metadata": {},
   "outputs": [],
   "source": [
    "rinst.dunnett_test(data_column=\"data.5\",label_column=\"category\",save_file=\"test.txt\")"
   ]
  },
  {
   "cell_type": "code",
   "execution_count": null,
   "metadata": {},
   "outputs": [],
   "source": []
  }
 ],
 "metadata": {
  "kernelspec": {
   "display_name": "Python 3",
   "language": "python",
   "name": "python3"
  },
  "language_info": {
   "codemirror_mode": {
    "name": "ipython",
    "version": 3
   },
   "file_extension": ".py",
   "mimetype": "text/x-python",
   "name": "python",
   "nbconvert_exporter": "python",
   "pygments_lexer": "ipython3",
   "version": "3.6.2"
  }
 },
 "nbformat": 4,
 "nbformat_minor": 2
}
