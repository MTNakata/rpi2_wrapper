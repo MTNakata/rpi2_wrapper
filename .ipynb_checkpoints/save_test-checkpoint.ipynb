{
 "cells": [
  {
   "cell_type": "code",
   "execution_count": 1,
   "metadata": {},
   "outputs": [
    {
     "name": "stdout",
     "output_type": "stream",
     "text": [
      "column names:\n",
      "['category', 'data.1', 'data.2', 'data.3', 'data.4', 'data.5']\n",
      "Import was succeeded\n"
     ]
    }
   ],
   "source": [
    "from rpy2_wrapper import R\n",
    "save_file=\"test.txt\"\n",
    "\n",
    "with open(save_file,\"w\") as f: #create new file\n",
    "    f.write(f\"{save_file}\\n\\n\")\n",
    "\n",
    "data_column=\"data.5\"\n",
    "label_column=\"category\"\n",
    "import_data = \"sample_data.csv\"\n",
    "\n",
    "rinst = R()\n",
    "rinst.import_csv(import_data)\n",
    "rinst.aov(data_column=data_column,label_column=label_column,save_file=save_file)\n",
    "rinst.tukeyHSD(data_column=data_column,label_column=label_column,save_file=save_file)\n",
    "rinst.oneway(data_column=data_column,label_column=label_column,save_file=save_file)"
   ]
  },
  {
   "cell_type": "code",
   "execution_count": 2,
   "metadata": {},
   "outputs": [],
   "source": [
    "rinst.dunnett_test(data_column=data_column,label_column=label_column,save_file=save_file)"
   ]
  },
  {
   "cell_type": "code",
   "execution_count": 3,
   "metadata": {},
   "outputs": [
    {
     "name": "stdout",
     "output_type": "stream",
     "text": [
      "column names:\n",
      "['A', 'B', 'C', 'D']\n",
      "Import was succeeded\n"
     ]
    }
   ],
   "source": [
    "import_data = \"sample_data2.csv\"\n",
    "\n",
    "rinst2 = R()\n",
    "rinst2.import_csv(import_data,index_col=0)\n",
    "rinst2.fisher_test(save_file=save_file)"
   ]
  },
  {
   "cell_type": "code",
   "execution_count": 4,
   "metadata": {},
   "outputs": [
    {
     "name": "stdout",
     "output_type": "stream",
     "text": [
      "column names:\n",
      "['category', 'data.1', 'data.2', 'data.3', 'data.4', 'data.5']\n",
      "Import was succeeded\n"
     ]
    }
   ],
   "source": [
    "import_data = \"sample_data3.csv\"\n",
    "\n",
    "rinst3 = R()\n",
    "rinst3.import_csv(import_data)\n",
    "rinst3.steeldwass(data_column=data_column,label_column=label_column,save_file=save_file)"
   ]
  },
  {
   "cell_type": "code",
   "execution_count": 5,
   "metadata": {},
   "outputs": [],
   "source": [
    "rinst.close()\n",
    "rinst2.close()\n",
    "rinst3.close()"
   ]
  },
  {
   "cell_type": "code",
   "execution_count": null,
   "metadata": {},
   "outputs": [],
   "source": []
  }
 ],
 "metadata": {
  "kernelspec": {
   "display_name": "Python 3",
   "language": "python",
   "name": "python3"
  },
  "language_info": {
   "codemirror_mode": {
    "name": "ipython",
    "version": 3
   },
   "file_extension": ".py",
   "mimetype": "text/x-python",
   "name": "python",
   "nbconvert_exporter": "python",
   "pygments_lexer": "ipython3",
   "version": "3.6.6"
  }
 },
 "nbformat": 4,
 "nbformat_minor": 2
}
